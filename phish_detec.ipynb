{
 "cells": [
  {
   "cell_type": "code",
   "execution_count": 5,
   "id": "a6619f22",
   "metadata": {},
   "outputs": [],
   "source": [
    "# Load basic libraries\n",
    "import numpy as np\n",
    "import pandas as pd\n",
    "from scipy.io import arff\n",
    "import matplotlib.pyplot as plt\n",
    "from sklearn.metrics import accuracy_score\n",
    "from sklearn.model_selection import train_test_split\n",
    "from sklearn.tree import DecisionTreeClassifier, plot_tree\n",
    "from sklearn.ensemble import RandomForestClassifier\n",
    "\n",
    "# read in ARFF file\n",
    "arff_file = arff.loadarff('Training_Dataset.arff')\n",
    "df = pd.DataFrame(arff_file[0])\n",
    "\n",
    "# Change from byte strings to ints, cause it is an aarf file\n",
    "for col in df.select_dtypes([np.object_, 'object']).columns:\n",
    "    df[col] = df[col].apply(lambda x: x.decode('utf-8') if isinstance(x, bytes) else x)\n",
    "\n",
    "# Grab necessary features from data\n",
    "features_to_consider = [\"having_IP_Address\", \"URL_Length\", \"having_At_Symbol\", \"double_slash_redirecting\", \"Prefix_Suffix\", \"having_Sub_Domain\", \"URL_of_Anchor\", \"HTTPS_token\", \"SFH\", \"Links_in_tags\", \"Submitting_to_email\"]\n",
    "X = df[features_to_consider].values\n",
    "y = df[\"Result\"].values\n",
    "\n"
   ]
  },
  {
   "cell_type": "code",
   "execution_count": 6,
   "id": "ea34ddbc",
   "metadata": {},
   "outputs": [
    {
     "name": "stdout",
     "output_type": "stream",
     "text": [
      "Feature having_IP_Address 0.33\n",
      "Feature URL_Length 0.02\n",
      "Feature having_At_Symbol 0.25\n",
      "Feature double_slash_redirecting -0.02\n",
      "Feature Prefix_Suffix 3.32\n",
      "Feature having_Sub_Domain 0.71\n",
      "Feature URL_of_Anchor 3.79\n",
      "Feature HTTPS_token -0.34\n",
      "Feature SFH 0.81\n",
      "Feature Links_in_tags 0.89\n",
      "Feature Submitting_to_email -0.2\n",
      "Accuracy 0.864314789687924\n",
      "Intercept [4.59538484]\n"
     ]
    }
   ],
   "source": [
    "# Start of Using a Logistic classifier instead\n",
    "from sklearn.linear_model import LogisticRegression\n",
    "\n",
    "X_train, X_test, y_train, y_test = train_test_split(X, y, test_size = 0.2, stratify = y)\n",
    "\n",
    "model = LogisticRegression()\n",
    "model.fit(X_train, y_train)\n",
    "y_pred = model.predict(X_test)\n",
    "\n",
    "accuracy = accuracy_score(y_test, y_pred)\n",
    " \n",
    "coefficients = model.coef_[0] \n",
    "\n",
    "# Print out coefficients, so we can use it in the sigmoid function in the chrome extension \n",
    "for i, coef in enumerate(coefficients):\n",
    "    feature_name = features_to_consider[i]\n",
    "    \n",
    "    print(\"Feature\", feature_name, np.round(coef, decimals = 2))\n",
    "\n",
    "\n",
    "print(\"Accuracy\", accuracy)\n",
    "print(\"Intercept\", model.intercept_)\n",
    "\n",
    "# Intercept [4.50696702]\n",
    "# accuracy is around 0.88\n"
   ]
  },
  {
   "cell_type": "code",
   "execution_count": null,
   "id": "0b9e8408",
   "metadata": {},
   "outputs": [
    {
     "data": {
      "text/plain": [
       "<function matplotlib.pyplot.show(close=None, block=None)>"
      ]
     },
     "execution_count": 7,
     "metadata": {},
     "output_type": "execute_result"
    },
    {
     "data": {
      "image/png": "[encoded data removed]",
      "text/plain": [
       "<Figure size 640x480 with 2 Axes>"
      ]
     },
     "metadata": {},
     "output_type": "display_data"
    }
   ],
   "source": [
    "# confusion matrix check\n",
    "from sklearn import metrics\n",
    "import matplotlib.pyplot as plt\n",
    "\n",
    "confusion_matrix = metrics.confusion_matrix(y_test, y_pred)\n",
    "display =  metrics.ConfusionMatrixDisplay(confusion_matrix = confusion_matrix, display_labels = [-1, 1])\n",
    "display.plot()\n",
    "plt.show\n",
    "# Confusion matrix shoes That the model does pretty well for not Falsely classifying, We shouldnt have to worry\n",
    "# too much about false positive or false negatives"
   ]
  }
 ],
 "metadata": {
  "kernelspec": {
   "display_name": "base",
   "language": "python",
   "name": "python3"
  },
  "language_info": {
   "codemirror_mode": {
    "name": "ipython",
    "version": 3
   },
   "file_extension": ".py",
   "mimetype": "text/x-python",
   "name": "python",
   "nbconvert_exporter": "python",
   "pygments_lexer": "ipython3",
   "version": "3.12.7"
  }
 },
 "nbformat": 4,
 "nbformat_minor": 5
}
