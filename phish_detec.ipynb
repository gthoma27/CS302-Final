{
 "cells": [
  {
   "cell_type": "code",
   "execution_count": 53,
   "id": "a6619f22",
   "metadata": {},
   "outputs": [],
   "source": [
    "# Load basic libraries\n",
    "import numpy as np\n",
    "import pandas as pd\n",
    "from scipy.io import arff\n",
    "import matplotlib.pyplot as plt\n",
    "from sklearn.metrics import accuracy_score\n",
    "from sklearn.model_selection import train_test_split\n",
    "from sklearn.tree import DecisionTreeClassifier, plot_tree\n",
    "from sklearn.ensemble import RandomForestClassifier\n",
    "\n",
    "# read in ARFF file\n",
    "arff_file = arff.loadarff('Training_Dataset.arff')\n",
    "df = pd.DataFrame(arff_file[0])\n",
    "\n",
    "# Change from byte strings to ints\n",
    "for col in df.select_dtypes([np.object_, 'object']).columns:\n",
    "    df[col] = df[col].apply(lambda x: x.decode('utf-8') if isinstance(x, bytes) else x)\n",
    "\n",
    "    # Try converting to numeric if possible\n",
    "    try:\n",
    "        df[col] = pd.to_numeric(df[col])\n",
    "    except ValueError:\n",
    "        pass  # Leave as string if conversion fails\n",
    "\n",
    "\n",
    "# Grab necessary features from data\n",
    "features_to_consider = [\"having_IP_Address\", \"URL_Length\", \"having_At_Symbol\", \"double_slash_redirecting\", \"Prefix_Suffix\", \"having_Sub_Domain\", \"URL_of_Anchor\", \"HTTPS_token\", \"SFH\", \"Iframe\"]\n",
    "X = df[features_to_consider].values\n",
    "y = df[\"Result\"].values\n",
    "\n"
   ]
  },
  {
   "cell_type": "code",
   "execution_count": null,
   "id": "ea34ddbc",
   "metadata": {},
   "outputs": [
    {
     "name": "stdout",
     "output_type": "stream",
     "text": [
      "Feature having_IP_Address 0.35\n",
      "Feature URL_Length 0.07\n",
      "Feature having_At_Symbol 0.2\n",
      "Feature double_slash_redirecting -0.15\n",
      "Feature Prefix_Suffix 3.08\n",
      "Feature having_Sub_Domain 0.69\n",
      "Feature URL_of_Anchor 3.57\n",
      "Feature HTTPS_token -0.25\n",
      "Feature SFH 0.79\n",
      "Feature Iframe -0.32\n",
      "Accuracy 0.8584350972410674\n",
      "Intercept [4.3769593]\n"
     ]
    }
   ],
   "source": [
    "# Start of Using a Logistic classifier instead\n",
    "from sklearn.linear_model import LogisticRegression\n",
    "\n",
    "X_train, X_test, y_train, y_test = train_test_split(X, y, test_size = 0.2, stratify = y)\n",
    "\n",
    "model = LogisticRegression()\n",
    "model.fit(X_train, y_train)\n",
    "y_pred = model.predict(X_test)\n",
    "\n",
    "accuracy = accuracy_score(y_test, y_pred)\n",
    " \n",
    "coefficients = model.coef_[0] \n",
    "\n",
    "# Print out coefficients, so we can use it in the sigmoid function in the chrome extension \n",
    "for i, coef in enumerate(coefficients):\n",
    "    feature_name = features_to_consider[i]\n",
    "    \n",
    "    print(\"Feature\", feature_name, np.round(coef, decimals = 2))\n",
    "\n",
    "\n",
    "print(\"Accuracy\", accuracy)\n",
    "print(\"Intercept\", model.intercept_)\n",
    "\n",
    "# Feature list is\n",
    "# having_IP_Address, 0.36\n",
    "# having_At_Symbol, 0.21\n",
    "# double_slash_redirecting -0.15\n",
    "# Prefix_Suffix 3.08\n",
    "# having_Sub_Domain 0.65\n",
    "# URL_of_Anchor 3.63\n",
    "# HTTPS_token -0.29\n",
    "# SFH 0.86\n",
    "# Iframe -0.16\n",
    "# sigmoid function is z = intercept + coef*featureval + ...\n",
    "# 1/ 1+e^-z\n",
    "# Intercept [4.50696702]\n",
    "# accuracy is around 0.85\n"
   ]
  },
  {
   "cell_type": "code",
   "execution_count": 55,
   "id": "0b9e8408",
   "metadata": {},
   "outputs": [
    {
     "data": {
      "text/plain": [
       "<function matplotlib.pyplot.show(close=None, block=None)>"
      ]
     },
     "execution_count": 55,
     "metadata": {},
     "output_type": "execute_result"
    },
    {
     "data": {
      "image/png": "[encoded data removed]",
      "text/plain": [
       "<Figure size 640x480 with 2 Axes>"
      ]
     },
     "metadata": {},
     "output_type": "display_data"
    }
   ],
   "source": [
    "# confusion matrix check\n",
    "from sklearn import metrics\n",
    "import matplotlib.pyplot as plt\n",
    "\n",
    "confusion_matrix = metrics.confusion_matrix(y_test, y_pred)\n",
    "display =  metrics.ConfusionMatrixDisplay(confusion_matrix = confusion_matrix, display_labels = [-1, 1])\n",
    "display.plot()\n",
    "plt.show"
   ]
  },
  {
   "cell_type": "code",
   "execution_count": 56,
   "id": "68c32dd2",
   "metadata": {},
   "outputs": [
    {
     "name": "stdout",
     "output_type": "stream",
     "text": [
      "For  0.1 0.7666874610106051 0.8299412030755314\n",
      "For  0.2 0.7876844130853111 0.8489371325192221\n",
      "For  0.3 0.7893713545042126 0.8471279963817278\n",
      "For  0.4 0.8504113687359761 0.8670284938941656\n",
      "For  0.5 0.8558139534883721 0.8584350972410674\n",
      "For  0.6 0.9090064995357474 0.8417005879692447\n",
      "For  0.7 0.9135922330097087 0.8285843509724107\n",
      "For  0.8 0.94875 0.76797829036635\n"
     ]
    }
   ],
   "source": [
    "from sklearn.metrics import precision_score\n",
    "\n",
    "# Try the Model with different thresholds, gauge Accuracy\n",
    "threshholds = [0.1, 0.2, 0.3, 0.4, 0.5, 0.6, 0.7, 0.8]\n",
    "for i in threshholds:\n",
    "    prob = (model.predict_proba(X_test)[:, 1] >= i).astype(int) \n",
    "    y_new_pred = (prob >= 0.5).astype(int)\n",
    "    y_new_pred = 2 * y_new_pred - 1\n",
    "    \n",
    "    precision = precision_score(y_test, y_new_pred)\n",
    "    accuracy = accuracy_score(y_test, y_new_pred)\n",
    "\n",
    "    print(\"For \", i, precision, accuracy)\n",
    "\n",
    "# May consider going to 0.6, the precision increases by 4 and accuracy only decreases by one\n",
    "# should only warn the user of potential phishing activiting on 0.6"
   ]
  }
 ],
 "metadata": {
  "kernelspec": {
   "display_name": "base",
   "language": "python",
   "name": "python3"
  },
  "language_info": {
   "codemirror_mode": {
    "name": "ipython",
    "version": 3
   },
   "file_extension": ".py",
   "mimetype": "text/x-python",
   "name": "python",
   "nbconvert_exporter": "python",
   "pygments_lexer": "ipython3",
   "version": "3.12.7"
  }
 },
 "nbformat": 4,
 "nbformat_minor": 5
}
